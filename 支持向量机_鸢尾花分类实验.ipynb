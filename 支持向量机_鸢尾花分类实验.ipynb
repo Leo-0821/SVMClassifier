{
 "cells": [
  {
   "cell_type": "code",
   "execution_count": 1,
   "metadata": {},
   "outputs": [],
   "source": [
    "import numpy as np\n",
    "import pandas as pd\n",
    "import matplotlib as mpl\n",
    "import matplotlib.pyplot as plt\n",
    "from sklearn import svm\n",
    "from sklearn.model_selection import train_test_split\n",
    "from sklearn.metrics import accuracy_score\n",
    "from sklearn.model_selection import GridSearchCV\n",
    "from time import time"
   ]
  },
  {
   "cell_type": "code",
   "execution_count": 2,
   "metadata": {},
   "outputs": [],
   "source": [
    "# 设置鸢尾花特征类别:\n",
    "iris_feature='花萼长度','花萼宽度','花瓣长度','花瓣宽度'\n",
    "# 设置文件路径:\n",
    "path='iris.data'\n",
    "# 使用pandas的read_csv功能读取数据:\n",
    "data=pd.read_csv(path,header=None)\n",
    "# 用pd.Categorical( list ).codes功能得到原始数据的对应的序号列表，通过这样的处理可以将类别信息转化成数值信息:\n",
    "x,y=data[[0,1]],pd.Categorical(data[4]).codes\n",
    "# 将数据分为训练集和测试集\n",
    "x_train,x_test,y_train,y_test=train_test_split(x,y,random_state=1,test_size=0.4)"
   ]
  },
  {
   "cell_type": "code",
   "execution_count": 3,
   "metadata": {},
   "outputs": [
    {
     "name": "stdout",
     "output_type": "stream",
     "text": [
      "       0    1\n",
      "11   4.8  3.4\n",
      "113  5.7  2.5\n",
      "123  6.3  2.7\n",
      "12   4.8  3.0\n",
      "2    4.7  3.2\n",
      "104  6.5  3.0\n",
      "6    4.6  3.4\n",
      "127  6.1  3.0\n",
      "110  6.5  3.2\n",
      "65   6.7  3.1\n",
      "55   5.7  2.8\n",
      "144  6.7  3.3\n",
      "138  6.0  3.0\n",
      "46   5.1  3.8\n",
      "62   6.0  2.2\n",
      "74   6.4  2.9\n",
      "116  6.5  3.0\n",
      "93   5.0  2.3\n",
      "100  6.3  3.3\n",
      "89   5.5  2.5\n",
      "10   5.4  3.7\n",
      "34   4.9  3.1\n",
      "32   5.2  4.1\n",
      "124  6.7  3.3\n",
      "38   4.4  3.0\n",
      "83   6.0  2.7\n",
      "111  6.4  2.7\n",
      "149  5.9  3.0\n",
      "27   5.2  3.5\n",
      "23   5.1  3.3\n",
      "..   ...  ...\n",
      "47   4.6  3.2\n",
      "115  6.4  3.2\n",
      "13   4.3  3.0\n",
      "88   5.6  3.0\n",
      "8    4.4  2.9\n",
      "81   5.5  2.4\n",
      "60   5.0  2.0\n",
      "0    5.1  3.5\n",
      "1    4.9  3.0\n",
      "57   4.9  2.4\n",
      "22   4.6  3.6\n",
      "61   5.9  3.0\n",
      "63   6.1  2.9\n",
      "7    5.0  3.4\n",
      "86   6.7  3.1\n",
      "96   5.7  2.9\n",
      "68   6.2  2.2\n",
      "50   7.0  3.2\n",
      "101  5.8  2.7\n",
      "20   5.4  3.4\n",
      "25   5.0  3.0\n",
      "134  6.1  2.6\n",
      "71   6.1  2.8\n",
      "129  7.2  3.0\n",
      "79   5.7  2.6\n",
      "133  6.3  2.8\n",
      "137  6.4  3.1\n",
      "72   6.3  2.5\n",
      "140  6.7  3.1\n",
      "37   4.9  3.1\n",
      "\n",
      "[90 rows x 2 columns]\n"
     ]
    }
   ],
   "source": [
    "print(x_train)"
   ]
  },
  {
   "cell_type": "code",
   "execution_count": 4,
   "metadata": {},
   "outputs": [
    {
     "name": "stdout",
     "output_type": "stream",
     "text": [
      "网格搜索法开始......\n"
     ]
    }
   ],
   "source": [
    "# 使用sklearn.svm.SVC构建分类器\n",
    "svm_clf=svm.SVC(C=3,kernel='linear')\n",
    "# 样例及主要参数\n",
    "# svm_clf = svm.SVC(C=10, gamma=1, kernel='rbf', decision_function_shape='ovo')\n",
    "print('网格搜索法开始......')\n",
    "t = time()\n",
    "clf = svm_clf"
   ]
  },
  {
   "cell_type": "code",
   "execution_count": 5,
   "metadata": {},
   "outputs": [
    {
     "name": "stdout",
     "output_type": "stream",
     "text": [
      "学习耗时：0秒\n"
     ]
    }
   ],
   "source": [
    "# clf = GridSearchCV(svm_clf, param_grid={'gamma':np.logspace(-2, 2, 10), 'C':np.logspace(-2, 2, 10)}, cv=3)\n",
    "clf.fit(x_train, y_train.ravel())\n",
    "\n",
    "# 打印分类时长\n",
    "t_end = time()\n",
    "print('学习耗时：%d秒' % (t_end - t))"
   ]
  },
  {
   "cell_type": "code",
   "execution_count": 6,
   "metadata": {},
   "outputs": [
    {
     "data": {
      "text/plain": [
       "array([[-2.50007025,  2.50040218],\n",
       "       [-2.22119453,  1.58523557],\n",
       "       [-0.90947309, -2.00086332]])"
      ]
     },
     "execution_count": 6,
     "metadata": {},
     "output_type": "execute_result"
    }
   ],
   "source": [
    "# 打印('最优参数：')\n",
    "clf.coef_"
   ]
  },
  {
   "cell_type": "code",
   "execution_count": 7,
   "metadata": {},
   "outputs": [
    {
     "name": "stdout",
     "output_type": "stream",
     "text": [
      "0.7888888888888889\n",
      "训练集的准确度： 0.7888888888888889\n"
     ]
    }
   ],
   "source": [
    "# 打印精度、训练集准确率、测试集准确率\n",
    "print(clf.score(x_train,y_train))\n",
    "print('训练集的准确度：',accuracy_score(y_train,clf.predict(x_train)))"
   ]
  },
  {
   "cell_type": "code",
   "execution_count": 8,
   "metadata": {},
   "outputs": [
    {
     "name": "stdout",
     "output_type": "stream",
     "text": [
      "0.7833333333333333\n",
      "测试集的准确度： 0.7833333333333333\n"
     ]
    }
   ],
   "source": [
    "print(clf.score(x_test,y_test))\n",
    "print(\"测试集的准确度：\",accuracy_score(y_test,clf.predict(x_test)))"
   ]
  },
  {
   "cell_type": "code",
   "execution_count": 9,
   "metadata": {},
   "outputs": [
    {
     "name": "stdout",
     "output_type": "stream",
     "text": [
      "       0    1\n",
      "11   4.8  3.4\n",
      "113  5.7  2.5\n",
      "123  6.3  2.7\n",
      "12   4.8  3.0\n",
      "2    4.7  3.2\n"
     ]
    }
   ],
   "source": [
    "# 决策函数\n",
    "print(x_train[:5])"
   ]
  },
  {
   "cell_type": "code",
   "execution_count": 10,
   "metadata": {},
   "outputs": [
    {
     "name": "stdout",
     "output_type": "stream",
     "text": [
      "decision_function:\n",
      " [[ 2.27077043  0.77466667 -0.23050192]\n",
      " [-0.26084184  2.25751125  1.0560141 ]\n",
      " [-0.28293421  2.25843306  1.22796515]\n",
      " [ 2.24308998  0.92588576 -0.2355186 ]\n",
      " [ 2.26643883  0.80879936 -0.24170145]\n",
      " [-0.28069428  1.23581332  2.24817619]\n",
      " [ 2.28018898  0.76457517 -0.24714914]\n",
      " [-0.25832462  1.21350955  2.20811726]\n",
      " [-0.27289547  1.20094518  2.249947  ]\n",
      " [-0.28479994  1.2318958   2.26058535]\n",
      " [-0.23449614  2.22389578  1.08207816]\n",
      " [-0.27824598  1.19362022  2.2618816 ]\n",
      " [-0.24940836  1.20624284  2.19142888]\n",
      " [ 2.2732283  -0.2577432   0.82271427]\n",
      " [-0.2872948   2.27977562  1.1680301 ]\n",
      " [-0.28016055  1.24346593  2.23969255]\n",
      " [-0.28069428  1.23581332  2.24817619]\n",
      " [-0.17539161  2.25364746  0.77515212]\n",
      " [-0.25325305  1.14281388  2.23566431]\n",
      " [-0.2421088   2.25159667  0.90072452]\n",
      " [ 2.24374936 -0.23761503  0.93581753]\n",
      " [ 2.24150985  0.87804111 -0.2241573 ]\n",
      " [ 2.28041834 -0.27382086  0.86293615]\n",
      " [-0.27824598  1.19362022  2.2618816 ]\n",
      " [ 2.27361996  0.84008337 -0.26180365]\n",
      " [-0.26919985  2.24943754  1.18347413]\n",
      " [-0.28629221  2.26101768  1.23745359]\n",
      " [-0.23808639  1.19803786  2.16960812]\n",
      " [ 2.24670891 -0.21840299  0.83780678]\n",
      " [ 2.23817757  0.82105098 -0.19112107]\n",
      " [-0.2549617   2.24213564  1.1247623 ]\n",
      " [ 2.24150985  0.87804111 -0.2241573 ]\n",
      " [-0.30409023  1.27536123  2.28319903]\n",
      " [-0.27073104  1.23503534  2.2197061 ]\n",
      " [-0.30441277  1.26883084  2.28803158]\n",
      " [-0.28752494  1.24411663  2.25991942]\n",
      " [-0.29292012  2.28000741  1.22212062]\n",
      " [-0.23176304  1.04104242  2.22722296]\n",
      " [-0.28694643  1.15125962  2.28088265]\n",
      " [-0.19956441  2.19653578  1.01742803]\n",
      " [ 2.26878977 -0.27918692  1.16597018]\n",
      " [-0.2549617   2.24213564  1.1247623 ]\n",
      " [ 2.18519501  1.23494087 -0.26146238]\n",
      " [-0.2512831   2.2597216   0.89408741]\n",
      " [-0.29066599  1.240849    2.26933123]\n",
      " [ 2.25729439 -0.2129225   0.79411601]\n",
      " [-0.29441953  1.26382422  2.26345809]\n",
      " [ 2.26377705 -0.22976306  0.79617407]\n",
      " [ 2.27077043  0.77466667 -0.23050192]\n",
      " [-0.2445374   1.07681969  2.23683943]\n",
      " [-0.21840757  2.21786592  1.00447438]\n",
      " [-0.28524498  1.22203776  2.26581127]\n",
      " [ 2.24947915  0.81045802 -0.20787766]\n",
      " [ 2.2684482  -0.24915018  0.81973595]\n",
      " [-0.20907334  1.12013512  2.17603067]\n",
      " [ 2.26728139  0.82893904 -0.24984081]\n",
      " [-0.2549617   2.24213564  1.1247623 ]\n",
      " [ 2.25207771  0.85867453 -0.23431088]\n",
      " [-0.28069428  1.23581332  2.24817619]\n",
      " [ 1.05055292  2.22662497 -0.23240122]\n",
      " [ 2.2722284   0.7997718  -0.24896247]\n",
      " [-0.26723747  1.19201787  2.24286157]\n",
      " [ 2.27827649  0.82682975 -0.26630655]\n",
      " [-0.17333043  2.16553945  1.02939988]\n",
      " [ 2.26890439  0.89311197 -0.26243597]\n",
      " [-0.2512831   2.2597216   0.89408741]\n",
      " [-0.23341849  2.27309387  0.7709214 ]\n",
      " [ 2.25617562 -0.22437834  0.81410784]\n",
      " [ 2.22986475  0.96247553 -0.22562355]\n",
      " [ 0.93771503  2.24006469 -0.23365567]\n",
      " [ 2.28631446 -0.25590025  0.75474384]\n",
      " [-0.23808639  1.19803786  2.16960812]\n",
      " [-0.2646401   1.23019768  2.20613126]\n",
      " [ 2.25729439 -0.2129225   0.79411601]\n",
      " [-0.28479994  1.2318958   2.26058535]\n",
      " [-0.22087216  2.20491832  1.08971052]\n",
      " [-0.29260626  2.28238001  1.20719635]\n",
      " [-0.29101034  1.23272406  2.27341138]\n",
      " [-0.2549617   2.24213564  1.1247623 ]\n",
      " [ 2.19974418 -0.17699012  0.91119813]\n",
      " [ 2.21209755  1.01040036 -0.21350121]\n",
      " [-0.27849238  2.26059076  1.19977637]\n",
      " [-0.26997469  2.24280567  1.20408124]\n",
      " [-0.29874557  1.25977449  2.27874043]\n",
      " [-0.25377271  2.24886239  1.06528288]\n",
      " [-0.27961589  2.2500049   1.22933155]\n",
      " [-0.27219081  1.21466357  2.24182934]\n",
      " [-0.2884762   2.2710352   1.22512174]\n",
      " [-0.28479994  1.2318958   2.26058535]\n",
      " [ 2.24150985  0.87804111 -0.2241573 ]]\n"
     ]
    }
   ],
   "source": [
    "print('decision_function:\\n', clf.decision_function(x_train))"
   ]
  },
  {
   "cell_type": "code",
   "execution_count": 11,
   "metadata": {},
   "outputs": [
    {
     "name": "stdout",
     "output_type": "stream",
     "text": [
      "\n",
      "predict:\n",
      " [0 1 1 0 0 2 0 2 2 2 1 2 2 0 1 2 2 1 2 1 0 0 0 2 0 1 1 2 0 0 1 0 2 2 2 2 1\n",
      " 2 2 1 0 1 0 1 2 0 2 0 0 2 1 2 0 0 2 0 1 0 2 1 0 2 0 1 0 1 1 0 0 1 0 2 2 0\n",
      " 2 1 1 2 1 0 0 1 1 2 1 1 2 1 2 0]\n"
     ]
    }
   ],
   "source": [
    "print('\\npredict:\\n', clf.predict(x_train))"
   ]
  },
  {
   "cell_type": "code",
   "execution_count": 12,
   "metadata": {},
   "outputs": [],
   "source": [
    "# 画图\n",
    "x1_min,x2_min=x.min()\n",
    "x1_max,x2_max=x.max()\n",
    "# 生成网格采样点\n",
    "x1,x2=np.mgrid[x1_min:x1_max:300j,x2_min:x2_max:300j]\n",
    "# 设置测试点\n",
    "grid_test = np.stack((x1.flat, x2.flat), axis=1)  \n",
    "# 预测分类值\n",
    "grid_hat=clf.predict(grid_test)\n",
    "# 使之与输入的形状相同\n",
    "grid_hat=grid_hat.reshape(x1.shape)\n",
    "# 设置中文字体显示\n",
    "mpl.rcParams['font.sans-serif']=['SimHei']\n",
    "mpl.rcParams['axes.unicode_minus']=False"
   ]
  },
  {
   "cell_type": "code",
   "execution_count": 13,
   "metadata": {},
   "outputs": [
    {
     "data": {
      "image/png": "[encoded data removed]",
      "text/plain": [
       "<Figure size 432x288 with 1 Axes>"
      ]
     },
     "metadata": {},
     "output_type": "display_data"
    }
   ],
   "source": [
    "# 设置绘图参数包括颜色、标题、横纵坐标范围、横纵坐标标签、设置网格\n",
    "cm_light=mpl.colors.ListedColormap(['#A0FFA0','#FFA0A0','#A0A0FF'])\n",
    "cm_dark=mpl.colors.ListedColormap(['g','r','b'])\n",
    "plt.figure(facecolor='w')\n",
    "plt.pcolormesh(x1,x2,grid_hat,cmap=cm_light)\n",
    "plt.scatter(x[0],x[1],c=y,edgecolors='k',s=50,cmap=cm_dark)#样本\n",
    "plt.scatter(x_test[0],x_test[1],s=120,facecolor='none',zorder=10)\n",
    "plt.xlabel(iris_feature[0],fontsize=16)\n",
    "plt.ylabel(iris_feature[1],fontsize=16)\n",
    "plt.xlim(x1_min,x1_max)\n",
    "plt.ylim(x2_min,x2_max)\n",
    "plt.title('基于SVM实现鸢尾花分类',fontsize=16)\n",
    "plt.grid(b=True,ls=':')\n",
    "plt.show()"
   ]
  }
 ],
 "metadata": {
  "kernelspec": {
   "display_name": "Python 3",
   "language": "python",
   "name": "python3"
  },
  "language_info": {
   "codemirror_mode": {
    "name": "ipython",
    "version": 3
   },
   "file_extension": ".py",
   "mimetype": "text/x-python",
   "name": "python",
   "nbconvert_exporter": "python",
   "pygments_lexer": "ipython3",
   "version": "3.7.1"
  }
 },
 "nbformat": 4,
 "nbformat_minor": 4
}
